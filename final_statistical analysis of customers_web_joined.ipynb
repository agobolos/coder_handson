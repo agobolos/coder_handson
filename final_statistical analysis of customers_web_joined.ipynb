{
  "metadata": {
    "kernelspec": {
      "name": "python3",
      "display_name": "Python 3",
      "language": "python"
    },
    "language_info": {
      "name": "python",
      "version": "3.7.12",
      "mimetype": "text/x-python",
      "codemirror_mode": {
        "name": "ipython",
        "version": 3
      },
      "pygments_lexer": "ipython3",
      "nbconvert_exporter": "python",
      "file_extension": ".py"
    },
    "tags": [],
    "modifiedBy": "admin",
    "createdOn": 1617634652885,
    "creator": "msakande",
    "customFields": {},
    "hide_input": false
  },
  "nbformat": 4,
  "nbformat_minor": 1,
  "cells": [
    {
      "cell_type": "markdown",
      "metadata": {},
      "source": [
        "# Statistical analysis (Single Population) on customers_web_joined"
      ]
    },
    {
      "cell_type": "markdown",
      "metadata": {},
      "source": [
        "Univariate analysis is perhaps the simplest form of statistical analysis. The key fact is that only one variable is involved.\n\nBivariate analysis involves the analysis of two variables (often denoted as X, Y), for the purpose of determining the empirical relationship between them.\n\n\u003ccenter\u003e**For bivariate analysis please use the Statistical analysis (Multiple Populations) variant of this notebook.**\u003c/center\u003e\n\n* [Setup and loading the data](#setup)\n* [Preprocessing of the data](#preprocessing)\n* [Statistical analysis and vizualisation](#general)\n* [Single population tests](#tests_single)\n\n\u003ccenter\u003e\u003cstrong\u003eSelect Cell \u003e Run All to execute the whole analysis\u003c/strong\u003e\u003c/center\u003e"
      ]
    },
    {
      "cell_type": "markdown",
      "metadata": {},
      "source": [
        "## Setup and dataset loading \u003ca id\u003d\"setup\" /\u003e \n\nFirst of all, let\u0027s load the libraries that we\u0027ll use"
      ]
    },
    {
      "execution_count": 1,
      "cell_type": "code",
      "metadata": {},
      "source": [
        "%pylab inline"
      ],
      "outputs": [
        {
          "output_type": "stream",
          "text": "Populating the interactive namespace from numpy and matplotlib\n",
          "name": "stdout"
        }
      ]
    },
    {
      "execution_count": 2,
      "cell_type": "code",
      "metadata": {},
      "source": [
        "import dataiku                               # Access to Dataiku datasets\nimport pandas as pd, numpy as np             # Data manipulation \nfrom matplotlib import pyplot as plt         # Graphing\nimport seaborn as sns                        # Graphing\n#sns.set(style\u003d\"white\")                       # Tuning the style of charts\nimport warnings                              # Disable some warnings\nwarnings.filterwarnings(\"ignore\",category\u003dDeprecationWarning)\nfrom scipy import stats                      # Stats"
      ],
      "outputs": []
    },
    {
      "cell_type": "markdown",
      "metadata": {},
      "source": [
        "The first thing we do is now to load the dataset and put aside the three main types of columns:\n\n* Numerics\n* Categorical\n* Dates\n\nStatistical analysis requires having the data in memory, we are only going to load a sample of the data. Modify the following cell to change the size of the sample."
      ]
    },
    {
      "execution_count": 3,
      "cell_type": "code",
      "metadata": {},
      "source": [
        "dataset_limit \u003d 10000"
      ],
      "outputs": []
    },
    {
      "cell_type": "markdown",
      "metadata": {},
      "source": [
        "Load a DSS dataset as a Pandas dataframe"
      ]
    },
    {
      "execution_count": 4,
      "cell_type": "code",
      "metadata": {},
      "source": [
        "# Take a handle on the dataset\nmydataset \u003d dataiku.Dataset(\"customers_web_joined\")\n\n# Load the first lines.\n# You can also load random samples, limit yourself to some columns, or only load\n# data matching some filters.\n#\n# Please refer to the Dataiku Python API documentation for more information\ndf \u003d mydataset.get_dataframe(limit \u003d dataset_limit)\n\ndf_orig \u003d df.copy()\n\n# Get the column names\nnumerical_columns \u003d list(df.select_dtypes(include\u003d[np.number]).columns)\ncategorical_columns \u003d list(df.select_dtypes(include\u003d[object]).columns)\ndate_columns \u003d list(df.select_dtypes(include\u003d[\u0027\u003cM8[ns]\u0027]).columns)\n\n# Print a quick summary of what we just loaded\nprint(\"Loaded dataset\")\nprint(\"   Rows: %s\" % df.shape[0])\nprint(\"   Columns: %s (%s num, %s cat, %s date)\" % (df.shape[1], \n                                                    len(numerical_columns), len(categorical_columns),\n                                                    len(date_columns)))"
      ],
      "outputs": [
        {
          "output_type": "stream",
          "text": "Loaded dataset\n   Rows: 10000\n   Columns: 11 (4 num, 6 cat, 0 date)\n",
          "name": "stdout"
        }
      ]
    },
    {
      "cell_type": "markdown",
      "metadata": {},
      "source": [
        "## Preprocessing of the data \u003ca id\u003d\"preprocessing\" /\u003e"
      ]
    },
    {
      "cell_type": "markdown",
      "metadata": {},
      "source": [
        "We will assume that the values are in the first numerical column."
      ]
    },
    {
      "execution_count": 5,
      "cell_type": "code",
      "metadata": {},
      "source": [
        "# value_col \u003d numerical_columns[0]"
      ],
      "outputs": []
    },
    {
      "cell_type": "markdown",
      "metadata": {},
      "source": [
        "Uncomment the following lines to take control on this"
      ]
    },
    {
      "execution_count": 6,
      "cell_type": "code",
      "metadata": {},
      "source": [
        "value_col \u003d \u0027revenue\u0027\nprint(\"Selected value column is \u0027%s\u0027\" % (value_col))"
      ],
      "outputs": [
        {
          "output_type": "stream",
          "text": "Selected value column is \u0027revenue\u0027\n",
          "name": "stdout"
        }
      ]
    },
    {
      "cell_type": "markdown",
      "metadata": {},
      "source": [
        "We drop rows for which \u0027revenue\u0027 is missing"
      ]
    },
    {
      "execution_count": 7,
      "cell_type": "code",
      "metadata": {},
      "source": [
        "df.dropna(subset\u003d[value_col], inplace\u003dTrue)\ndf_pop_1 \u003d df[value_col]"
      ],
      "outputs": []
    },
    {
      "execution_count": 8,
      "cell_type": "code",
      "metadata": {},
      "source": [
        "# # Use mean for numerical features\n# v \u003d df[value_col].mean()\n# if np.isnan(v):\n#     v \u003d 0\n# print \"Filling value column \u0027%s\u0027 with %s\" % (value_col, v)\n# df[value_col] \u003d df[value_col].fillna(v)\n# df_pop_1 \u003d df[value_col]"
      ],
      "outputs": []
    },
    {
      "cell_type": "markdown",
      "metadata": {},
      "source": [
        "## Statistical analysis and vizualisation \u003ca id\u003d\"general\" /a\u003e"
      ]
    },
    {
      "cell_type": "markdown",
      "metadata": {},
      "source": [
        "### General statistics\nNumber of records, mean, standard deviation, minimal value, quartiles, maximum value, mode, variance, skewness and kurtosis."
      ]
    },
    {
      "execution_count": 9,
      "cell_type": "code",
      "metadata": {
        "scrolled": true
      },
      "source": [
        "additional_stats \u003d [\"var\", \"skew\", \"kurtosis\"]\nprint(\"Stats about your series:\\n\", df_pop_1.describe().append(pd.Series(NaN if df_pop_1.mode().empty else df_pop_1.mode()[0], index\u003d[\"mode\"])).append(pd.Series([df_pop_1.__getattr__(x)() for x in additional_stats], index\u003dadditional_stats)))"
      ],
      "outputs": [
        {
          "output_type": "stream",
          "text": "Stats about your series:\n count       8398.000000\nmean         181.815471\nstd           70.769120\nmin           32.000000\n25%          136.000000\n50%          177.000000\n75%          222.000000\nmax          549.000000\nmode         174.000000\nvar         5008.268306\nskew           0.705902\nkurtosis       1.390421\ndtype: float64\n",
          "name": "stdout"
        }
      ]
    },
    {
      "cell_type": "markdown",
      "metadata": {},
      "source": [
        "### Histogram\nHistograms let you see the number of occurrences in your value column."
      ]
    },
    {
      "execution_count": 10,
      "cell_type": "code",
      "metadata": {},
      "source": [
        "plt.title(\"Histogram of \"+value_col);\nplt.hist(df_pop_1);"
      ],
      "outputs": [
        {
          "output_type": "display_data",
          "data": {
            "text/plain": "\u003cFigure size 432x288 with 1 Axes\u003e",
            "image/png": "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\u003d\n"
          },
          "metadata": {}
        }
      ]
    },
    {
      "cell_type": "markdown",
      "metadata": {},
      "source": [
        "### Distplot\nDistplots combine an histogram with a kernel density estimation."
      ]
    },
    {
      "execution_count": 11,
      "cell_type": "code",
      "metadata": {},
      "source": [
        "sns.distplot(df_pop_1);"
      ],
      "outputs": [
        {
          "output_type": "display_data",
          "data": {
            "text/plain": "\u003cFigure size 432x288 with 1 Axes\u003e",
            "image/png": "[encoded data removed]"
          },
          "metadata": {}
        }
      ]
    },
    {
      "cell_type": "markdown",
      "metadata": {},
      "source": [
        "### Box plot"
      ]
    },
    {
      "cell_type": "markdown",
      "metadata": {},
      "source": [
        "A simple way of representing statistical data on a plot in which a rectangle is drawn to represent the second and third quartiles, with a vertical line inside to indicate the median value. The lower and upper quartiles are shown as horizontal lines either side of the rectangle."
      ]
    },
    {
      "execution_count": 12,
      "cell_type": "code",
      "metadata": {},
      "source": [
        "sns.boxplot(df_pop_1);"
      ],
      "outputs": [
        {
          "output_type": "display_data",
          "data": {
            "text/plain": "\u003cFigure size 432x288 with 1 Axes\u003e",
            "image/png": "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\u003d\u003d\n"
          },
          "metadata": {}
        }
      ]
    },
    {
      "cell_type": "markdown",
      "metadata": {},
      "source": [
        "### Violin plot"
      ]
    },
    {
      "cell_type": "markdown",
      "metadata": {},
      "source": [
        "The violin plot is similar to box plots, except that they also show the probability density of the data at different values. Violin plots include a marker for the median of the data and a box indicating the interquartile range, as in standard box plots. Overlaid on this box plot is a kernel density estimation. "
      ]
    },
    {
      "execution_count": 13,
      "cell_type": "code",
      "metadata": {},
      "source": [
        "sns.violinplot(df_pop_1);"
      ],
      "outputs": [
        {
          "output_type": "display_data",
          "data": {
            "text/plain": "\u003cFigure size 432x288 with 1 Axes\u003e",
            "image/png": "[encoded data removed]"
          },
          "metadata": {}
        }
      ]
    },
    {
      "cell_type": "markdown",
      "metadata": {},
      "source": [
        "### Letter value plot"
      ]
    },
    {
      "cell_type": "markdown",
      "metadata": {},
      "source": [
        "Letter value plots are an improvement upon boxplots for large datasets.\n\nThey display the median and the quartiles, like a standard box plot, but will also draw boxes for subsequent \"eights\", \"sixteenth\" etc... which are generically called letter values.\n\nA cut off condition will leave a reasonable number of outliers out of the final boxes, helping you spot them easily.\n\nLetter value plots give a good sense of the distribution of data, and of its skewness."
      ]
    },
    {
      "execution_count": 14,
      "cell_type": "code",
      "metadata": {},
      "source": [
        "sns.lvplot(df_pop_1);"
      ],
      "outputs": [
        {
          "output_type": "stream",
          "text": "/Users/tylerfreckmann/Dataiku/dataiku-dss-10.0.2-osx/python37.packages/seaborn/categorical.py:2622: UserWarning: The `lvplot` function has been renamed to `boxenplot`. The original name will be removed in a future release. Please update your code. \n  warnings.warn(msg)\n",
          "name": "stderr"
        },
        {
          "output_type": "display_data",
          "data": {
            "text/plain": "\u003cFigure size 432x288 with 1 Axes\u003e",
            "image/png": "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\u003d\u003d\n"
          },
          "metadata": {}
        }
      ]
    },
    {
      "cell_type": "markdown",
      "metadata": {},
      "source": [
        "## Statistical testing \u003ca id\u003d\"tests\" /a\u003e"
      ]
    },
    {
      "cell_type": "markdown",
      "metadata": {},
      "source": [
        "**Reminder:** For a given significance level (e.g. 0.05), if the resulting p-value is smaller (p \u003c 0.05), the null hypothesis is rejected. Otherwise (p ≥ 0.05) it cannot be rejected."
      ]
    },
    {
      "execution_count": 15,
      "cell_type": "code",
      "metadata": {},
      "source": [
        "# Define your confidence threshold here, default is 0.05\nconfidence \u003d 0.05"
      ],
      "outputs": []
    },
    {
      "execution_count": 16,
      "cell_type": "code",
      "metadata": {},
      "source": [
        "def analyse_results(confidence, pvalue, message, population_name\u003d\"your series\"):\n    if pvalue \u003c confidence:\n        print(\"The hypothesis of \" + message + \" for \"+ population_name + \" is rejected with pvalue %s (smaller than %s)\" % (pvalue, confidence))\n    else:\n        print(\"The hypothesis of \" + message + \" for \"+ population_name + \" can not be rejected, pvalue was %s (greater than %s)\" % (pvalue, confidence))"
      ],
      "outputs": []
    },
    {
      "cell_type": "markdown",
      "metadata": {},
      "source": [
        "## Single population tests \u003ca id\u003d\"tests_single\" /a\u003e"
      ]
    },
    {
      "cell_type": "markdown",
      "metadata": {},
      "source": [
        "### Goodness of fit with a normal law: Shapiro-Wilk test"
      ]
    },
    {
      "cell_type": "markdown",
      "metadata": {},
      "source": [
        "The null-hypothesis of this test is that the population is normally distributed."
      ]
    },
    {
      "execution_count": 17,
      "cell_type": "code",
      "metadata": {},
      "source": [
        "pvalue_1 \u003d stats.shapiro(df_pop_1)[1]\ntest \u003d \u0027normal distribution\u0027\nanalyse_results(confidence, pvalue_1, test)"
      ],
      "outputs": [
        {
          "output_type": "stream",
          "text": "The hypothesis of normal distribution for your series is rejected with pvalue 5.995511531552303e-38 (smaller than 0.05)\n",
          "name": "stdout"
        },
        {
          "output_type": "stream",
          "text": "/Users/tylerfreckmann/Dataiku/dataiku-dss-10.0.2-osx/python37.packages/scipy/stats/morestats.py:1653: UserWarning: p-value may not be accurate for N \u003e 5000.\n  warnings.warn(\"p-value may not be accurate for N \u003e 5000.\")\n",
          "name": "stderr"
        }
      ]
    },
    {
      "cell_type": "markdown",
      "metadata": {},
      "source": [
        "### Test for the average value"
      ]
    },
    {
      "cell_type": "markdown",
      "metadata": {},
      "source": [
        "The null-hypothesis of this test is that the population has the specified mean."
      ]
    },
    {
      "execution_count": 18,
      "cell_type": "code",
      "metadata": {},
      "source": [
        "# Define the mean you ant to test for here\ntested_mean \u003d 0"
      ],
      "outputs": []
    },
    {
      "execution_count": 19,
      "cell_type": "code",
      "metadata": {},
      "source": [
        "pvalue_1 \u003d stats.ttest_1samp(df_pop_1, tested_mean).pvalue\ntest \u003d \u0027mean\u003d%s\u0027 % (tested_mean)\nanalyse_results(confidence, pvalue_1, test)"
      ],
      "outputs": [
        {
          "output_type": "stream",
          "text": "The hypothesis of mean\u003d0 for your series is rejected with pvalue 0.0 (smaller than 0.05)\n",
          "name": "stdout"
        }
      ]
    },
    {
      "cell_type": "markdown",
      "metadata": {},
      "source": [
        "\u003ccenter\u003e**If you have multiple populations and want to run bivariate analyses please use the Statistical analysis (Multiple Populations) variant of this notebook.**\u003c/center\u003e"
      ]
    }
  ]
}